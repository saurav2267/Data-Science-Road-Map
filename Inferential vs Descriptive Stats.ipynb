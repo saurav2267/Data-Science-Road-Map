{
  "nbformat": 4,
  "nbformat_minor": 0,
  "metadata": {
    "colab": {
      "provenance": []
    },
    "kernelspec": {
      "name": "python3",
      "display_name": "Python 3"
    },
    "language_info": {
      "name": "python"
    }
  },
  "cells": [
    {
      "cell_type": "markdown",
      "source": [
        "Descriptive Statistics is like being a detective who describes what the data is saying."
      ],
      "metadata": {
        "id": "2VWrkqZ71asR"
      }
    },
    {
      "cell_type": "markdown",
      "source": [
        "Now consider the below as the dataset given"
      ],
      "metadata": {
        "id": "hM5EaDO-1d6d"
      }
    },
    {
      "cell_type": "code",
      "execution_count": 1,
      "metadata": {
        "id": "V4fJDREA1Qzw"
      },
      "outputs": [],
      "source": [
        "marks = [65, 70, 85, 90, 75, 70, 60, 95, 80, 70]"
      ]
    },
    {
      "cell_type": "markdown",
      "source": [
        "Now lets calculate everything like mean, median, mode, variance etc..."
      ],
      "metadata": {
        "id": "4iZvVUQZ1lzp"
      }
    },
    {
      "cell_type": "code",
      "source": [
        "import numpy as np\n",
        "import statistics\n",
        "import matplotlib.pyplot as plt\n",
        "\n",
        "# Our dataset\n",
        "marks = [65, 70, 85, 90, 75, 70, 60, 95, 80, 70]\n",
        "\n",
        "# Mean (average)\n",
        "mean = np.mean(marks)\n",
        "print(\"Mean:\", mean)\n",
        "\n",
        "# Median (middle value)\n",
        "median = np.median(marks)\n",
        "print(\"Median:\", median)\n",
        "\n",
        "# Mode (most frequent)\n",
        "mode = statistics.mode(marks)\n",
        "print(\"Mode:\", mode)\n",
        "\n",
        "# Range (max - min)\n",
        "range_val = max(marks) - min(marks)\n",
        "print(\"Range:\", range_val)\n",
        "\n",
        "# Standard Deviation (how spread out the marks are)\n",
        "std_dev = np.std(marks)\n",
        "print(\"Standard Deviation:\", std_dev)\n",
        "\n",
        "# 📊 Let's plot the marks\n",
        "plt.hist(marks, bins=5, edgecolor='black')\n",
        "plt.title(\"Student Marks Distribution\")\n",
        "plt.xlabel(\"Marks\")\n",
        "plt.ylabel(\"Number of Students\")\n",
        "plt.show()\n"
      ],
      "metadata": {
        "colab": {
          "base_uri": "https://localhost:8080/",
          "height": 559
        },
        "id": "YhKZFQB-1rlU",
        "outputId": "abdacc55-a56e-4fdb-d063-d549f008c24f"
      },
      "execution_count": 2,
      "outputs": [
        {
          "output_type": "stream",
          "name": "stdout",
          "text": [
            "Mean: 76.0\n",
            "Median: 72.5\n",
            "Mode: 70\n",
            "Range: 35\n",
            "Standard Deviation: 10.677078252031311\n"
          ]
        },
        {
          "output_type": "display_data",
          "data": {
            "text/plain": [
              "<Figure size 640x480 with 1 Axes>"
            ],
            "image/png": "[encoded data removed]"
          },
          "metadata": {}
        }
      ]
    },
    {
      "cell_type": "markdown",
      "source": [
        "Inferential Statistics - using a small sample to make smart guesses about a big population."
      ],
      "metadata": {
        "id": "zIObox5S2Sxe"
      }
    },
    {
      "cell_type": "markdown",
      "source": [
        "GOAL: Pretend to survey a small group and estimate what a larger population prefers."
      ],
      "metadata": {
        "id": "39X_28g030-z"
      }
    },
    {
      "cell_type": "code",
      "source": [
        "# Simulating a population first\n",
        "import random\n",
        "import collections\n",
        "\n",
        "# Full population (1000 people)\n",
        "flavors = [\"chocolate\", \"vanilla\", \"mango\"]\n",
        "population = [random.choices(flavors, weights=[0.6, 0.3, 0.1])[0] for _ in range(1000)]\n",
        "\n",
        "# Let's see the actual population preference\n",
        "actual_counts = collections.Counter(population)\n",
        "print(\"Actual Population Preference:\")\n",
        "for flavor, count in actual_counts.items():\n",
        "    print(f\"{flavor}: {count/10}%\")\n"
      ],
      "metadata": {
        "colab": {
          "base_uri": "https://localhost:8080/"
        },
        "id": "MwB7H2su1tzm",
        "outputId": "040bd83f-6780-4029-a3f0-29eccb78ad36"
      },
      "execution_count": 4,
      "outputs": [
        {
          "output_type": "stream",
          "name": "stdout",
          "text": [
            "Actual Population Preference:\n",
            "chocolate: 61.7%\n",
            "vanilla: 27.1%\n",
            "mango: 11.2%\n"
          ]
        }
      ]
    },
    {
      "cell_type": "code",
      "source": [
        "# Taking a random sample\n",
        "# Take a random sample of 50 people\n",
        "sample = random.sample(population, 50)\n",
        "\n",
        "# Count flavor preferences in sample\n",
        "sample_counts = collections.Counter(sample)\n",
        "print(\"\\nSample Preference (from 50 people):\")\n",
        "for flavor, count in sample_counts.items():\n",
        "    print(f\"{flavor}: {round(count/50*100, 2)}%\")\n"
      ],
      "metadata": {
        "colab": {
          "base_uri": "https://localhost:8080/"
        },
        "id": "qFabfuHd37CH",
        "outputId": "6e33bec2-21e6-4445-a054-179c6aa5c5be"
      },
      "execution_count": 5,
      "outputs": [
        {
          "output_type": "stream",
          "name": "stdout",
          "text": [
            "\n",
            "Sample Preference (from 50 people):\n",
            "chocolate: 66.0%\n",
            "vanilla: 22.0%\n",
            "mango: 12.0%\n"
          ]
        }
      ]
    },
    {
      "cell_type": "code",
      "source": [
        "# Estimating the preference of the whole populations\n",
        "print(\"\\nEstimated Preferences Based on Sample:\")\n",
        "for flavor, count in sample_counts.items():\n",
        "    estimate = round(count / 50 * 100, 2)\n",
        "    print(f\"{flavor}: ~{estimate}% of the population\")\n"
      ],
      "metadata": {
        "colab": {
          "base_uri": "https://localhost:8080/"
        },
        "id": "SuZhfH-44AmI",
        "outputId": "67a4c4fd-15cd-4402-ee2a-a5b4f8175b8f"
      },
      "execution_count": 6,
      "outputs": [
        {
          "output_type": "stream",
          "name": "stdout",
          "text": [
            "\n",
            "Estimated Preferences Based on Sample:\n",
            "chocolate: ~66.0% of the population\n",
            "vanilla: ~22.0% of the population\n",
            "mango: ~12.0% of the population\n"
          ]
        }
      ]
    },
    {
      "cell_type": "markdown",
      "source": [
        "Even though the sample size was small, our estimates were reasonably close to the true population values. This shows how inferential statistics can help make smart predictions about a large group using just a small, randomly chosen sample.\n"
      ],
      "metadata": {
        "id": "0mnFT3zf41uk"
      }
    },
    {
      "cell_type": "code",
      "source": [],
      "metadata": {
        "id": "hbKfz_Dj4GAf"
      },
      "execution_count": null,
      "outputs": []
    }
  ]
}